{
 "cells": [
  {
   "cell_type": "markdown",
   "metadata": {},
   "source": [
    "# What is CVXPY?\n",
    "\n",
    "CVXPY is a Python-embedded modeling language for convex optimization problems. It allows you to express your problem in a natural way that follows the math, rather than in the restrictive standard form required by solvers.\n",
    "\n",
    "### Quick example\n",
    "For example, the following code solves a least-squares problem with objective function:\n",
    "\n",
    "$$\\|Ax - b\\|_2^2$$\n"
   ]
  },
  {
   "cell_type": "code",
   "execution_count": 1,
   "metadata": {},
   "outputs": [
    {
     "name": "stdout",
     "output_type": "stream",
     "text": [
      "status: optimal\n",
      "optimal value 14.250034142207774\n",
      "optimal var [-0.13813052  0.04286782 -0.31326036 -0.31875169 -0.38173044  0.103067\n",
      "  0.24419122 -0.00342188  0.23622057  0.7852978  -0.10776466  0.04355379\n",
      "  0.02445841  0.34065977 -0.18837811 -0.06417183 -0.06285536 -0.17786598\n",
      " -0.077241   -0.05903772]\n"
     ]
    }
   ],
   "source": [
    "import cvxpy as cp\n",
    "import numpy\n",
    "\n",
    "# Problem data.\n",
    "m = 30\n",
    "n = 20\n",
    "numpy.random.seed(1)\n",
    "A = numpy.random.randn(m, n)\n",
    "b = numpy.random.randn(m)\n",
    "\n",
    "# Construct the problem.\n",
    "x = cp.Variable(n)\n",
    "objective = cp.Minimize(cp.sum_squares(A @ x - b))\n",
    "prob = cp.Problem(objective)\n",
    "\n",
    "# The optimal objective is returned by prob.solve().\n",
    "prob.solve()\n",
    "print(\"status:\", prob.status)\n",
    "print(\"optimal value\", prob.value)\n",
    "print(\"optimal var\", x.value)"
   ]
  },
  {
   "cell_type": "markdown",
   "metadata": {},
   "source": [
    "- `prob.status`, which was assigned a value “optimal” by the solve method, tells us the problem was solved successfully.\n",
    "\n",
    "- `prob.value`: is the minimum value of the objective.\n",
    "\n",
    "- `x.value`: values of x that achieve the optimal objective"
   ]
  },
  {
   "cell_type": "markdown",
   "metadata": {},
   "source": [
    "### Bounded least-squares problem\n",
    "\n",
    "Again, the objective function is given by: \n",
    "\n",
    "$$\\|Ax - b\\|_2^2.$$\n",
    "\n",
    "Besides, an additional constraints are imposed:\n",
    "\n",
    "$$x_i \\in [0, 1], \\forall i$$"
   ]
  },
  {
   "cell_type": "code",
   "execution_count": 2,
   "metadata": {},
   "outputs": [
    {
     "name": "stdout",
     "output_type": "stream",
     "text": [
      "status: optimal\n",
      "optimal value 19.83126370644502\n",
      "optimal var [-1.79109255e-19  2.85112420e-02  2.79973443e-19  3.37658729e-20\n",
      " -2.72802663e-19  1.49285011e-01 -9.94082533e-20  8.35373900e-20\n",
      "  2.46718649e-01  5.78224144e-01 -4.03739463e-19  1.01242860e-03\n",
      " -9.28486180e-20  2.26767464e-01 -1.58813678e-19 -8.97232272e-20\n",
      " -1.22145729e-19 -1.51509428e-19  1.12060672e-19 -3.48318635e-19]\n"
     ]
    }
   ],
   "source": [
    "import cvxpy as cp\n",
    "import numpy\n",
    "\n",
    "# Problem data.\n",
    "m = 30\n",
    "n = 20\n",
    "numpy.random.seed(1)\n",
    "A = numpy.random.randn(m, n)\n",
    "b = numpy.random.randn(m)\n",
    "\n",
    "# Construct the problem.\n",
    "x = cp.Variable(n)\n",
    "objective = cp.Minimize(cp.sum_squares(A @ x - b))\n",
    "constraints = [0 <= x, x <= 1]\n",
    "prob = cp.Problem(objective, constraints)\n",
    "\n",
    "# Solve the convex problem:\n",
    "prob.solve()\n",
    "print(\"status:\", prob.status)\n",
    "print(\"optimal value\", prob.value)\n",
    "print(\"optimal var\", x.value)"
   ]
  },
  {
   "cell_type": "markdown",
   "metadata": {},
   "source": [
    "### Lasso\n",
    "\n",
    "Lasso regression is a shrinkage method. It imposes an $\\ell_1$ penalty on the parameters. That is, lasso finds an assignment to $\\beta$ that minimizes the function:\n",
    "\n",
    "$$\\|X\\beta - Y\\|_2^2 + \\lambda \\|\\beta\\|_1$$\n",
    "\n",
    "where $\\lambda$ is a hyperparameter and, as usual, $X$ is the training data and $Y$ the observations. The penalty encourages sparsity in the learned parameters, and can drive many coefficients to zero. In this sense, lasso is a continuous feature selection method.\n",
    "\n",
    "We generate training examples and observations that are linearly related; we make the relationship sparse, and we’ll see how to use cvxpy to solve lasso."
   ]
  },
  {
   "cell_type": "code",
   "execution_count": 3,
   "metadata": {},
   "outputs": [],
   "source": [
    "import numpy as np\n",
    "\n",
    "def generate_data(m=100, n=20, sigma=5, density=0.2):\n",
    "    \"Generates data matrix X and observations Y.\"\n",
    "    np.random.seed(1)\n",
    "    beta_star = np.random.randn(n)\n",
    "    idxs = np.random.choice(range(n), int((1-density)*n), replace=False)\n",
    "    for idx in idxs:\n",
    "        beta_star[idx] = 0\n",
    "    X = np.random.randn(m,n)\n",
    "    Y = X.dot(beta_star) + np.random.normal(0, sigma, size=m)\n",
    "    return X, Y, beta_star\n",
    "\n",
    "m = 100\n",
    "n = 20\n",
    "sigma = 5\n",
    "density = 0.2\n",
    "\n",
    "X, Y, _ = generate_data(m, n, sigma)\n",
    "X_train = X[:50, :]\n",
    "Y_train = Y[:50]\n",
    "X_test = X[50:, :]\n",
    "Y_test = Y[50:]"
   ]
  },
  {
   "cell_type": "markdown",
   "metadata": {},
   "source": [
    "#### Objective functions\n",
    "\n",
    "We can decompose the objective function as the sum of a least squares loss function and an $\\ell_1$ regularizer."
   ]
  },
  {
   "cell_type": "code",
   "execution_count": 4,
   "metadata": {},
   "outputs": [],
   "source": [
    "def loss_fn(X, Y, beta):\n",
    "    return cp.norm2(X @ beta - Y)**2\n",
    "\n",
    "def regularizer(beta):\n",
    "    return cp.norm1(beta)\n",
    "\n",
    "def objective_fn(X, Y, beta, lambd):\n",
    "    return loss_fn(X, Y, beta) + lambd * regularizer(beta)\n",
    "\n",
    "def mse(X, Y, beta):\n",
    "    return (1.0 / X.shape[0]) * loss_fn(X, Y, beta).value"
   ]
  },
  {
   "cell_type": "markdown",
   "metadata": {},
   "source": [
    "#### Fitting the model\n",
    "\n",
    "All we need to do to fit the model is create a CVXPY problem where the objective is to minimize the the objective function defined above. We make $\\lambda$ a CVXPY parameter, so that we can use a single CVXPY problem to obtain estimates for many values of $\\lambda$."
   ]
  },
  {
   "cell_type": "code",
   "execution_count": 5,
   "metadata": {},
   "outputs": [
    {
     "name": "stderr",
     "output_type": "stream",
     "text": [
      "/Users/zhujin/miniforge3/envs/convex-solver/lib/python3.9/site-packages/cvxpy/problems/problem.py:1385: UserWarning: Solution may be inaccurate. Try another solver, adjusting the solver settings, or solve with verbose=True for more information.\n",
      "  warnings.warn(\n"
     ]
    }
   ],
   "source": [
    "beta = cp.Variable(n)\n",
    "lambd = cp.Parameter(nonneg=True)\n",
    "problem = cp.Problem(cp.Minimize(objective_fn(X_train, Y_train, beta, lambd)))\n",
    "\n",
    "lambd_values = np.logspace(-2, 3, 50)\n",
    "train_errors = []\n",
    "test_errors = []\n",
    "beta_values = []\n",
    "for v in lambd_values:\n",
    "    lambd.value = v\n",
    "    problem.solve()\n",
    "    train_errors.append(mse(X_train, Y_train, beta))\n",
    "    test_errors.append(mse(X_test, Y_test, beta))\n",
    "    beta_values.append(beta.value)"
   ]
  },
  {
   "cell_type": "markdown",
   "metadata": {},
   "source": [
    "Evaluate the model when $\\lambda$ changes and visual the training and testing error:"
   ]
  },
  {
   "cell_type": "code",
   "execution_count": 6,
   "metadata": {},
   "outputs": [
    {
     "data": {
      "image/png": "[encoded data removed]",
      "text/plain": [
       "<Figure size 640x480 with 1 Axes>"
      ]
     },
     "metadata": {},
     "output_type": "display_data"
    }
   ],
   "source": [
    "import matplotlib.pyplot as plt\n",
    "\n",
    "def plot_train_test_errors(train_errors, test_errors, lambd_values):\n",
    "    plt.plot(lambd_values, train_errors, label=\"Train error\")\n",
    "    plt.plot(lambd_values, test_errors, label=\"Test error\")\n",
    "    plt.xscale(\"log\")\n",
    "    plt.legend(loc=\"upper left\")\n",
    "    plt.xlabel(r\"$\\lambda$\", fontsize=16)\n",
    "    plt.title(\"Mean Squared Error (MSE)\")\n",
    "    plt.show()\n",
    "\n",
    "plot_train_test_errors(train_errors, test_errors, lambd_values)"
   ]
  }
 ],
 "metadata": {
  "kernelspec": {
   "display_name": "Python 3",
   "language": "python",
   "name": "python3"
  },
  "language_info": {
   "codemirror_mode": {
    "name": "ipython",
    "version": 3
   },
   "file_extension": ".py",
   "mimetype": "text/x-python",
   "name": "python",
   "nbconvert_exporter": "python",
   "pygments_lexer": "ipython3",
   "version": "3.9.12"
  }
 },
 "nbformat": 4,
 "nbformat_minor": 2
}
